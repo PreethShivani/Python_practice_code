{
  "cells": [
    {
      "cell_type": "markdown",
      "metadata": {},
      "source": [
        "# Day 14: Loyalty Program's Impact on Transaction Patterns"
      ]
    },
    {
      "cell_type": "markdown",
      "metadata": {},
      "source": [
        "You are a Business Analyst on the Starbucks Rewards team investigating customer transaction behavior. Your team wants to understand how loyalty program membership influences purchasing patterns. The goal is to compare transaction metrics between loyalty members and non-members."
      ]
    },
    {
      "cell_type": "code",
      "metadata": {},
      "execution_count": null,
      "outputs": [],
      "source": "import pandas as pd\nimport numpy as np\n\ndim_customers_data = [\n  {\n    \"customer_id\": 1,\n    \"is_loyalty_member\": 1\n  },\n  {\n    \"customer_id\": 2,\n    \"is_loyalty_member\": 0\n  },\n  {\n    \"customer_id\": 3,\n    \"is_loyalty_member\": 1\n  },\n  {\n    \"customer_id\": 4,\n    \"is_loyalty_member\": 0\n  },\n  {\n    \"customer_id\": 5,\n    \"is_loyalty_member\": 1\n  },\n  {\n    \"customer_id\": 6,\n    \"is_loyalty_member\": 1\n  },\n  {\n    \"customer_id\": 7,\n    \"is_loyalty_member\": 0\n  },\n  {\n    \"customer_id\": 8,\n    \"is_loyalty_member\": 1\n  },\n  {\n    \"customer_id\": 9,\n    \"is_loyalty_member\": 0\n  },\n  {\n    \"customer_id\": 10,\n    \"is_loyalty_member\": 0\n  },\n  {\n    \"customer_id\": 11,\n    \"is_loyalty_member\": 1\n  },\n  {\n    \"customer_id\": 12,\n    \"is_loyalty_member\": 0\n  }\n]\ndim_customers = pd.DataFrame(dim_customers_data)\n\nfct_transactions_data = [\n  {\n    \"customer_id\": 1,\n    \"transaction_id\": 101,\n    \"transaction_date\": \"2024-07-05\",\n    \"transaction_value\": 5.5\n  },\n  {\n    \"customer_id\": 1,\n    \"transaction_id\": 102,\n    \"transaction_date\": \"2024-07-15\",\n    \"transaction_value\": 7.25\n  },\n  {\n    \"customer_id\": 2,\n    \"transaction_id\": 103,\n    \"transaction_date\": \"2024-07-10\",\n    \"transaction_value\": 4\n  },\n  {\n    \"customer_id\": 3,\n    \"transaction_id\": 104,\n    \"transaction_date\": \"2024-07-20\",\n    \"transaction_value\": 8.75\n  },\n  {\n    \"customer_id\": 4,\n    \"transaction_id\": 105,\n    \"transaction_date\": \"2024-07-03\",\n    \"transaction_value\": 6.5\n  },\n  {\n    \"customer_id\": 5,\n    \"transaction_id\": 106,\n    \"transaction_date\": \"2024-07-22\",\n    \"transaction_value\": 9\n  },\n  {\n    \"customer_id\": 6,\n    \"transaction_id\": 107,\n    \"transaction_date\": \"2024-07-11\",\n    \"transaction_value\": 10.5\n  },\n  {\n    \"customer_id\": 7,\n    \"transaction_id\": 108,\n    \"transaction_date\": \"2024-07-18\",\n    \"transaction_value\": 4.25\n  },\n  {\n    \"customer_id\": 8,\n    \"transaction_id\": 109,\n    \"transaction_date\": \"2024-07-25\",\n    \"transaction_value\": 12\n  },\n  {\n    \"customer_id\": 9,\n    \"transaction_id\": 110,\n    \"transaction_date\": \"2024-07-07\",\n    \"transaction_value\": 3.75\n  },\n  {\n    \"customer_id\": 10,\n    \"transaction_id\": 111,\n    \"transaction_date\": \"2024-07-12\",\n    \"transaction_value\": 5\n  },\n  {\n    \"customer_id\": 11,\n    \"transaction_id\": 112,\n    \"transaction_date\": \"2024-07-27\",\n    \"transaction_value\": 11.25\n  },\n  {\n    \"customer_id\": 12,\n    \"transaction_id\": 113,\n    \"transaction_date\": \"2024-07-08\",\n    \"transaction_value\": 6\n  },\n  {\n    \"customer_id\": 3,\n    \"transaction_id\": 114,\n    \"transaction_date\": \"2024-07-30\",\n    \"transaction_value\": 7.5\n  },\n  {\n    \"customer_id\": 5,\n    \"transaction_id\": 115,\n    \"transaction_date\": \"2024-07-29\",\n    \"transaction_value\": 10\n  },\n  {\n    \"customer_id\": 1,\n    \"transaction_id\": 116,\n    \"transaction_date\": \"2024-07-31\",\n    \"transaction_value\": 6.25\n  }\n]\nfct_transactions = pd.DataFrame(fct_transactions_data)\n"
    },
    {
      "cell_type": "markdown",
      "metadata": {},
      "source": [
        "## Question 1\n\nFor the month of July 2024, how many transactions did loyalty program members and non-members make? Compare the transaction counts between these two groups."
      ]
    },
    {
      "cell_type": "code",
      "metadata": {},
      "execution_count": null,
      "outputs": [],
      "source": "# Note: pandas and numpy are already imported as pd and np\n# The following tables are loaded as pandas DataFrames with the same names: fct_transactions, dim_customers\n# Please print your final result or dataframe\n\n\n# Ensure transaction_date is datetime\nfct_transactions['transaction_date'] = pd.to_datetime(fct_transactions['transaction_date'])\n\n# Filter for July 2024\nstart_date = pd.Timestamp('2024-07-01')\nend_date = pd.Timestamp('2024-07-31')\njuly_txns = fct_transactions[\n    (fct_transactions['transaction_date'] >= start_date) &\n    (fct_transactions['transaction_date'] <= end_date)\n]\n\n# Join with dim_customers to get loyalty membership info\nmerged_df = july_txns.merge(\n    dim_customers[['customer_id', 'is_loyalty_member']],\n    on='customer_id',\n    how='left'\n)\n\n# Group by loyalty membership and count transactions\ntxn_counts = (\n    merged_df\n    .groupby('is_loyalty_member')['transaction_id']\n    .count()\n    .reset_index(name='transaction_count')\n)\n\nprint(txn_counts)"
    },
    {
      "cell_type": "markdown",
      "metadata": {},
      "source": [
        "## Question 2\n\nWhat is the average transaction value for loyalty program members and non-members during July 2024? Use this to identify which group has a higher average transaction value."
      ]
    },
    {
      "cell_type": "code",
      "metadata": {},
      "execution_count": null,
      "outputs": [],
      "source": "# Ensure transaction_date is datetime\nfct_transactions['transaction_date'] = pd.to_datetime(fct_transactions['transaction_date'])\n\n# Filter for July 2024\nstart_date = pd.Timestamp('2024-07-01')\nend_date = pd.Timestamp('2024-07-31')\njuly_txns = fct_transactions[\n    (fct_transactions['transaction_date'] >= start_date) &\n    (fct_transactions['transaction_date'] <= end_date)\n]\n\n# Join with dim_customers to get loyalty membership info\nmerged_df = july_txns.merge(\n    dim_customers[['customer_id', 'is_loyalty_member']],\n    on='customer_id',\n    how='left'\n)\n\n# Group by loyalty status and calculate average transaction value\navg_txn_value = (\n    merged_df\n    .groupby('is_loyalty_member')['transaction_value']\n    .mean()\n    .reset_index(name='avg_transaction_value')\n)\n\nprint(avg_txn_value)"
    },
    {
      "cell_type": "markdown",
      "metadata": {},
      "source": [
        "## Question 3\n\nDetermine the percentage difference in average transaction value between loyalty program members and non-members for July 2024."
      ]
    },
    {
      "cell_type": "code",
      "metadata": {},
      "execution_count": null,
      "outputs": [],
      "source": "# Ensure transaction_date is datetime\nfct_transactions['transaction_date'] = pd.to_datetime(fct_transactions['transaction_date'])\n\n# Filter for July 2024\nstart_date = pd.Timestamp('2024-07-01')\nend_date = pd.Timestamp('2024-07-31')\njuly_txns = fct_transactions[\n    (fct_transactions['transaction_date'] >= start_date) &\n    (fct_transactions['transaction_date'] <= end_date)\n]\n\n# Join with dim_customers\nmerged_df = july_txns.merge(\n    dim_customers[['customer_id', 'is_loyalty_member']],\n    on='customer_id',\n    how='left'\n)\n\n# Calculate average transaction value by group\navg_txn_value = merged_df.groupby('is_loyalty_member')['transaction_value'].mean()\n\n# Percentage difference formula:\n# ((members_avg - non_members_avg) / non_members_avg) * 100\nmembers_avg = avg_txn_value[True]\nnon_members_avg = avg_txn_value[False]\n\npercentage_diff = ((members_avg - non_members_avg) / non_members_avg) * 100\n\nprint(f\"Percentage difference in avg transaction value: {percentage_diff:.2f}%\")"
    },
    {
      "cell_type": "markdown",
      "metadata": {},
      "source": [
        "Made with ❤️ by [Interview Master](https://www.interviewmaster.ai)"
      ]
    }
  ],
  "metadata": {
    "kernelspec": {
      "name": "python3",
      "language": "python",
      "display_name": "Python 3"
    },
    "language_info": {
      "name": "python",
      "version": "3",
      "mimetype": "text/x-python",
      "file_extension": ".py"
    }
  },
  "nbformat": 4,
  "nbformat_minor": 5
}